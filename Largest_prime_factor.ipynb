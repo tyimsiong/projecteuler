{
  "nbformat": 4,
  "nbformat_minor": 0,
  "metadata": {
    "colab": {
      "provenance": [],
      "authorship_tag": "ABX9TyNvqeWjJS8jpxwekvottvzg",
      "include_colab_link": true
    },
    "kernelspec": {
      "name": "python3",
      "display_name": "Python 3"
    },
    "language_info": {
      "name": "python"
    }
  },
  "cells": [
    {
      "cell_type": "markdown",
      "metadata": {
        "id": "view-in-github",
        "colab_type": "text"
      },
      "source": [
        "<a href=\"https://colab.research.google.com/github/tyimsiong/projecteuler/blob/main/Largest_prime_factor.ipynb\" target=\"_parent\"><img src=\"https://colab.research.google.com/assets/colab-badge.svg\" alt=\"Open In Colab\"/></a>"
      ]
    },
    {
      "cell_type": "code",
      "execution_count": 41,
      "metadata": {
        "colab": {
          "base_uri": "https://localhost:8080/"
        },
        "id": "saBqkT5HdXk4",
        "outputId": "3b29dd23-9a00-4a05-8770-b34ce3fa6a2a"
      },
      "outputs": [
        {
          "output_type": "stream",
          "name": "stdout",
          "text": [
            "The largest prime factor is 6857.\n"
          ]
        }
      ],
      "source": [
        "n = 600851475143\n",
        "\n",
        "i=2\n",
        "\n",
        "for count in range(n):\n",
        "\n",
        "  if i >= n:\n",
        "    break\n",
        "\n",
        "  elif n%i == 0:\n",
        "    n = int(n / i)\n",
        "  \n",
        "  else:\n",
        "    i = i + 1\n",
        "\n",
        "print(\"The largest prime factor is \" + str(i) + \".\")"
      ]
    }
  ]
}
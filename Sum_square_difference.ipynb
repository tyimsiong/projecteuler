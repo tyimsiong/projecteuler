{
  "nbformat": 4,
  "nbformat_minor": 0,
  "metadata": {
    "colab": {
      "provenance": [],
      "authorship_tag": "ABX9TyOA49ZgQHahy0UJh3cJU3dv",
      "include_colab_link": true
    },
    "kernelspec": {
      "name": "python3",
      "display_name": "Python 3"
    },
    "language_info": {
      "name": "python"
    }
  },
  "cells": [
    {
      "cell_type": "markdown",
      "metadata": {
        "id": "view-in-github",
        "colab_type": "text"
      },
      "source": [
        "<a href=\"https://colab.research.google.com/github/tyimsiong/projecteuler/blob/main/Sum_square_difference.ipynb\" target=\"_parent\"><img src=\"https://colab.research.google.com/assets/colab-badge.svg\" alt=\"Open In Colab\"/></a>"
      ]
    },
    {
      "cell_type": "code",
      "execution_count": 8,
      "metadata": {
        "id": "ZykvrYLAVpbY",
        "colab": {
          "base_uri": "https://localhost:8080/"
        },
        "outputId": "5f8e6142-962d-4062-9dc4-35992301da03"
      },
      "outputs": [
        {
          "output_type": "stream",
          "name": "stdout",
          "text": [
            "25164150\n"
          ]
        }
      ],
      "source": [
        "n = 100\n",
        "sqsum = 0     # sqsum = (1 + 2 + ...+100)^2\n",
        "sumsq = 0     # sumsq = 1^2 + 2^2 + ...+ 100^2\n",
        "\n",
        "for i in range(1,n+1):\n",
        "\n",
        "  sqsum = sqsum + i\n",
        "  sumsq = sumsq + i*i\n",
        "  \n",
        "Diff = sqsum*sqsum -sumsq\n",
        "\n",
        "print(Diff)\n",
        "  "
      ]
    }
  ]
}
{
  "nbformat": 4,
  "nbformat_minor": 0,
  "metadata": {
    "colab": {
      "provenance": [],
      "authorship_tag": "ABX9TyOovA5Gq12KnU3IyEqmEHj/",
      "include_colab_link": true
    },
    "kernelspec": {
      "name": "python3",
      "display_name": "Python 3"
    },
    "language_info": {
      "name": "python"
    }
  },
  "cells": [
    {
      "cell_type": "markdown",
      "metadata": {
        "id": "view-in-github",
        "colab_type": "text"
      },
      "source": [
        "<a href=\"https://colab.research.google.com/github/tyimsiong/projecteuler/blob/main/Largest_palindrome_product2.ipynb\" target=\"_parent\"><img src=\"https://colab.research.google.com/assets/colab-badge.svg\" alt=\"Open In Colab\"/></a>"
      ]
    },
    {
      "cell_type": "code",
      "execution_count": 19,
      "metadata": {
        "colab": {
          "base_uri": "https://localhost:8080/"
        },
        "id": "D4_xO_FTAclb",
        "outputId": "ae72611c-0292-4ec3-db2d-92ae26424b9b"
      },
      "outputs": [
        {
          "output_type": "stream",
          "name": "stdout",
          "text": [
            "906609\n"
          ]
        }
      ],
      "source": [
        "i = 0\n",
        "j = 0\n",
        "palindrome = []\n",
        "\n",
        "for i in range(100,1000,1):\n",
        "  for j in range(10,1000,1):\n",
        "    n = i * j\n",
        "    if len(str(n)) == 3 and n == int(100 * (n % 10) + 10*((n // 10) % 10) + (n // 100)):\n",
        "       if palindrome.count(n) == 0:\n",
        "         palindrome.append(n)\n",
        "\n",
        "    elif len(str(n)) == 4 and n == int(1000 * (n % 10) + 100*((n // 10) % 10) + + 10*((n // 100) % 10) + (n // 1000)):\n",
        "       if palindrome.count(n) == 0:\n",
        "         palindrome.append(n)\n",
        "\n",
        "    elif len(str(n)) == 5 and n == int(10000 * (n % 10) + 1000*((n // 10) % 10) + 100*((n // 100) % 10) + 10*((n // 1000) % 10) + (n // 10000)):\n",
        "       if palindrome.count(n) == 0:\n",
        "         palindrome.append(n)\n",
        "\n",
        "    elif len(str(n)) == 6 and n == int(100000 * (n % 10) + 10000*((n // 10) % 10) + 1000*((n // 100) % 10) + 100*((n // 1000) % 10) + 10*((n // 10000) % 10) + (n // 100000)):\n",
        "       if palindrome.count(n) == 0:\n",
        "         palindrome.append(n)\n",
        "\n",
        "print(max(palindrome))        \n"
      ]
    }
  ]
}
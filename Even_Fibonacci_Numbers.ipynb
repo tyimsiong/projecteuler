{
  "nbformat": 4,
  "nbformat_minor": 0,
  "metadata": {
    "colab": {
      "provenance": [],
      "authorship_tag": "ABX9TyNbQXmK43JAYtXXZp5ptRoQ",
      "include_colab_link": true
    },
    "kernelspec": {
      "name": "python3",
      "display_name": "Python 3"
    },
    "language_info": {
      "name": "python"
    }
  },
  "cells": [
    {
      "cell_type": "markdown",
      "metadata": {
        "id": "view-in-github",
        "colab_type": "text"
      },
      "source": [
        "<a href=\"https://colab.research.google.com/github/tyimsiong/projecteuler/blob/main/Even_Fibonacci_Numbers.ipynb\" target=\"_parent\"><img src=\"https://colab.research.google.com/assets/colab-badge.svg\" alt=\"Open In Colab\"/></a>"
      ]
    },
    {
      "cell_type": "code",
      "execution_count": null,
      "metadata": {
        "colab": {
          "base_uri": "https://localhost:8080/"
        },
        "id": "VR1fVlvw_1Wb",
        "outputId": "6e270293-d8de-403c-e9c2-e4a952015ec3"
      },
      "outputs": [
        {
          "output_type": "stream",
          "name": "stdout",
          "text": [
            "Sum of the even-valued terms = 4613732\n"
          ]
        }
      ],
      "source": [
        "a = 1\n",
        "b = 2\n",
        "sum = 0\n",
        " \n",
        "while b < 4000000:\n",
        "  c = a\n",
        "  a = b\n",
        "  b = a + c\n",
        " \n",
        "  if(a%2 == 0):\n",
        "    sum = sum + a\n",
        " \n",
        "print(\"Sum of the even-valued terms = \" + str(sum))"
      ]
    }
  ]
}